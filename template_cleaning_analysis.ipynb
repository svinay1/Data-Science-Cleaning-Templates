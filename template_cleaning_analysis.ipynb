{
 "cells": [
  {
   "cell_type": "code",
   "execution_count": 1,
   "id": "7dfa3bd0",
   "metadata": {},
   "outputs": [],
   "source": [
    "import numpy as np\n",
    "import matplotlib.pyplot as plt\n",
    "import pandas as pd"
   ]
  },
  {
   "cell_type": "code",
   "execution_count": 2,
   "id": "c7054acd",
   "metadata": {},
   "outputs": [],
   "source": [
    "# Placeholder for privacy reasons\n",
    "dataset = pd.read_csv('dataset name')"
   ]
  },
  {
   "cell_type": "code",
   "execution_count": null,
   "id": "5e13c097",
   "metadata": {
    "scrolled": true
   },
   "outputs": [],
   "source": [
    "# Data cleaning/parsing\n",
    "sum_num = 0\n",
    "for value in dataset[\"column\"]:\n",
    "    whole_num = str(value)[:-3]\n",
    "    num = whole_num.replace(',','')\n",
    "    if num != '':\n",
    "        sum_num += int(num)\n",
    "print(sum_num)"
   ]
  },
  {
   "cell_type": "code",
   "execution_count": 6,
   "id": "08ef1526",
   "metadata": {},
   "outputs": [],
   "source": [
    "# Conversion to integers for data cleaning - if necessary\n",
    "def to_integer(value):\n",
    "    sum_num = 0\n",
    "    whole_num = str(value)[:-3]\n",
    "    num_list = list(whole_num)\n",
    "    if ',' in num_list:\n",
    "        num_list.remove(',')\n",
    "    string = \"\"\n",
    "    for num in num_list:\n",
    "        string += num\n",
    "    return int(string)"
   ]
  },
  {
   "cell_type": "code",
   "execution_count": null,
   "id": "ef7ee171",
   "metadata": {},
   "outputs": [],
   "source": [
    "# Find averages for column - with data cleaning\n",
    "unique = list(new_df[\"column\"].unique())\n",
    "print(unique)\n",
    "avg_list = []\n",
    "for item in unique:\n",
    "    item_df = new_df[new_df[\"another_column\"] == item]\n",
    "    lst = list(item_df[\"column\"])\n",
    "    print(lst)\n",
    "    int_list = []\n",
    "    for value in lst:\n",
    "        num = str(value)[-2:]\n",
    "        if num == '.0':\n",
    "            int_list.append(to_integer(value))\n",
    "    sum_num = 0\n",
    "    for num in int_list:\n",
    "        sum_num += num\n",
    "    if len(lst) > 0:\n",
    "        avg_list.append(sum_num / len(lst))\n",
    "print(avg_list)"
   ]
  }
 ],
 "metadata": {
  "kernelspec": {
   "display_name": "Python 3 (ipykernel)",
   "language": "python",
   "name": "python3"
  },
  "language_info": {
   "codemirror_mode": {
    "name": "ipython",
    "version": 3
   },
   "file_extension": ".py",
   "mimetype": "text/x-python",
   "name": "python",
   "nbconvert_exporter": "python",
   "pygments_lexer": "ipython3",
   "version": "3.9.12"
  }
 },
 "nbformat": 4,
 "nbformat_minor": 5
}
